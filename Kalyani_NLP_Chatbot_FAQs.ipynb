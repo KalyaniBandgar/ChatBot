{
 "cells": [
  {
   "cell_type": "markdown",
   "metadata": {},
   "source": [
    "## Name : Kalyani Bandgar\n",
    "## kaggle Account : "
   ]
  },
  {
   "cell_type": "markdown",
   "metadata": {
    "id": "JSYFtS6IDqIv"
   },
   "source": [
    "## Simple 5 min CHatbot using NLTK, TfidfVectorizer, cosine_similarity"
   ]
  },
  {
   "cell_type": "code",
   "execution_count": 1,
   "metadata": {
    "colab": {
     "base_uri": "https://localhost:8080/"
    },
    "executionInfo": {
     "elapsed": 3272,
     "status": "ok",
     "timestamp": 1630572314245,
     "user": {
      "displayName": "shantanu pathak",
      "photoUrl": "https://lh3.googleusercontent.com/a-/AOh14Ghy-2EOK4l0U6WfTBQKzaSYykTqmkj2-3SuxRvtUg=s64",
      "userId": "10566305450164209704"
     },
     "user_tz": -330
    },
    "id": "LbZENqQfDqI0",
    "outputId": "90d6e2c1-d916-43f4-a74e-f3c6ed151b6b"
   },
   "outputs": [
    {
     "name": "stderr",
     "output_type": "stream",
     "text": [
      "[nltk_data] Downloading package punkt to\n",
      "[nltk_data]     C:\\Users\\Devashish\\AppData\\Roaming\\nltk_data...\n",
      "[nltk_data]   Package punkt is already up-to-date!\n",
      "[nltk_data] Downloading package wordnet to\n",
      "[nltk_data]     C:\\Users\\Devashish\\AppData\\Roaming\\nltk_data...\n",
      "[nltk_data]   Package wordnet is already up-to-date!\n"
     ]
    },
    {
     "data": {
      "text/plain": [
       "True"
      ]
     },
     "execution_count": 1,
     "metadata": {},
     "output_type": "execute_result"
    }
   ],
   "source": [
    "#Importing necessary libraries\n",
    "import numpy as np\n",
    "import random\n",
    "import string # to process standard python strings\n",
    "\n",
    "import warnings\n",
    "warnings.filterwarnings(\"ignore\")\n",
    "\n",
    "# first-time use only\n",
    "# !pip install nltk\n",
    "# Natural Language Tool Kit\n",
    "import nltk \n",
    "nltk.download('punkt')\n",
    "nltk.download('wordnet') "
   ]
  },
  {
   "cell_type": "code",
   "execution_count": null,
   "metadata": {
    "id": "h2yJGEQZDqI2"
   },
   "outputs": [],
   "source": []
  },
  {
   "cell_type": "code",
   "execution_count": 2,
   "metadata": {
    "id": "5Ey8EJgVDqI4"
   },
   "outputs": [],
   "source": [
    "#faq.txt file has list of frequently asked questions(FAQs)\n",
    "with open('faq.txt','r',errors = 'ignore') as f:\n",
    "    faq_raw=f.read()\n",
    "faq_raw=faq_raw.lower()# converts to lowercase\n",
    "\n",
    "#ans.txt file has list of all answers prepared for FAQs\n",
    "with open('ans.txt','r',errors = 'ignore') as f:\n",
    "    ans_raw=f.read()\n",
    "    \n",
    "ans_sent_tokens = nltk.sent_tokenize(ans_raw)\n",
    "sent_tokens = nltk.sent_tokenize(faq_raw)# converts to list of faq sentences \n",
    "word_tokens = nltk.word_tokenize(faq_raw)# converts to list of words"
   ]
  },
  {
   "cell_type": "code",
   "execution_count": 3,
   "metadata": {
    "colab": {
     "base_uri": "https://localhost:8080/"
    },
    "executionInfo": {
     "elapsed": 428,
     "status": "ok",
     "timestamp": 1630572641212,
     "user": {
      "displayName": "shantanu pathak",
      "photoUrl": "https://lh3.googleusercontent.com/a-/AOh14Ghy-2EOK4l0U6WfTBQKzaSYykTqmkj2-3SuxRvtUg=s64",
      "userId": "10566305450164209704"
     },
     "user_tz": -330
    },
    "id": "IyIsOwYxTTGn",
    "outputId": "37641164-5b01-448e-dfe4-33cea40f6b7d"
   },
   "outputs": [
    {
     "name": "stdout",
     "output_type": "stream",
     "text": [
      "Total number of answers  9\n",
      "Total number of FAQs  9\n"
     ]
    }
   ],
   "source": [
    "print(\"Total number of answers \",len(ans_sent_tokens))\n",
    "print(\"Total number of FAQs \",len(sent_tokens))"
   ]
  },
  {
   "cell_type": "code",
   "execution_count": 4,
   "metadata": {
    "colab": {
     "base_uri": "https://localhost:8080/"
    },
    "executionInfo": {
     "elapsed": 559,
     "status": "ok",
     "timestamp": 1630572713396,
     "user": {
      "displayName": "shantanu pathak",
      "photoUrl": "https://lh3.googleusercontent.com/a-/AOh14Ghy-2EOK4l0U6WfTBQKzaSYykTqmkj2-3SuxRvtUg=s64",
      "userId": "10566305450164209704"
     },
     "user_tz": -330
    },
    "id": "7R8YsjjjMmdo",
    "outputId": "6fda4a21-27e5-407e-8fa0-81cfb6861828"
   },
   "outputs": [
    {
     "name": "stdout",
     "output_type": "stream",
     "text": [
      "FAQs in faq.txt file \n"
     ]
    },
    {
     "data": {
      "text/plain": [
       "['what is machine learning?',\n",
       " 'how can i get job as machine learning engineer?',\n",
       " 'how can i become a data scientist?',\n",
       " 'what is role of a data scientist?',\n",
       " 'how much salary a data scientist gets ?',\n",
       " 'what is unique part of this training ?',\n",
       " 'what is the fees of this training ?',\n",
       " 'how can i pay the fees of this training?',\n",
       " 'what is method of delivery of this training?']"
      ]
     },
     "execution_count": 4,
     "metadata": {},
     "output_type": "execute_result"
    }
   ],
   "source": [
    "print(\"FAQs in faq.txt file \")\n",
    "sent_tokens"
   ]
  },
  {
   "cell_type": "code",
   "execution_count": 5,
   "metadata": {},
   "outputs": [
    {
     "name": "stdout",
     "output_type": "stream",
     "text": [
      "Answers in ans.txt file \n"
     ]
    },
    {
     "data": {
      "text/plain": [
       "['Machine Learning is an art to make machines learn.',\n",
       " 'By learning and practicing Machine Learning techniques you can get a job as ML engineer.',\n",
       " 'Learn about data analysis, data visualization and machine learning models, Practice it on projects, And Done!',\n",
       " 'A DS does data cleaning, data analysis, data visualiation and predictions using machine learning.',\n",
       " 'ANS How much salary a data scientist gets ?',\n",
       " 'ANS What is unique part of this training ?',\n",
       " 'ANS What is the fees of this training ?',\n",
       " 'ANS How can i pay the fees of this training?',\n",
       " 'ANS What is method of delivery of this training?']"
      ]
     },
     "execution_count": 5,
     "metadata": {},
     "output_type": "execute_result"
    }
   ],
   "source": [
    "print(\"Answers in ans.txt file \")\n",
    "ans_sent_tokens"
   ]
  },
  {
   "cell_type": "code",
   "execution_count": 6,
   "metadata": {
    "id": "b3L3OtWPDqI5"
   },
   "outputs": [],
   "source": [
    "lemmer = nltk.stem.WordNetLemmatizer()\n",
    "#WordNet is a semantically-oriented dictionary of English included in NLTK.\n",
    "def LemTokens(tokens):\n",
    "    return [lemmer.lemmatize(token) for token in tokens]\n",
    "\n",
    "\n",
    "#Remove punctuctions\n",
    "remove_punct_dict = dict((ord(punct), None) for punct in string.punctuation)\n",
    "\n",
    "def LemNormalize(text):\n",
    "    text = text.lower()\n",
    "    clean_text = text.translate(remove_punct_dict)\n",
    "    words = nltk.word_tokenize(clean_text)\n",
    "    return LemTokens(words)\n"
   ]
  },
  {
   "cell_type": "code",
   "execution_count": 7,
   "metadata": {
    "colab": {
     "base_uri": "https://localhost:8080/"
    },
    "executionInfo": {
     "elapsed": 2087,
     "status": "ok",
     "timestamp": 1630573785828,
     "user": {
      "displayName": "shantanu pathak",
      "photoUrl": "https://lh3.googleusercontent.com/a-/AOh14Ghy-2EOK4l0U6WfTBQKzaSYykTqmkj2-3SuxRvtUg=s64",
      "userId": "10566305450164209704"
     },
     "user_tz": -330
    },
    "id": "sm6A3jV4ITAG",
    "outputId": "98a4a3e3-c9ea-44dd-94b4-795fc4c002d0"
   },
   "outputs": [
    {
     "data": {
      "text/plain": [
       "['shiva', 'is', 'a', 'nice', 'learning', 'name', 'i', 'wa', 'excited']"
      ]
     },
     "execution_count": 7,
     "metadata": {},
     "output_type": "execute_result"
    }
   ],
   "source": [
    "#Testing lemNormalize function\n",
    "LemNormalize('@shiva is a nice learning name. I was excited! @#$%^&')"
   ]
  },
  {
   "cell_type": "code",
   "execution_count": 8,
   "metadata": {
    "id": "eGSd-XrODqI6"
   },
   "outputs": [],
   "source": [
    "#Greeting messages\n",
    "GREETING_INPUTS = (\"hello\", \"hi\", \"greetings\", \"sup\", \"what's up\",\"hey\",)\n",
    "GREETING_RESPONSES = [\"hi\", \"hey\", \"*nods*\", \"hi there\", \"hello\", \"I am glad! You are talking to me\"]\n",
    "\n",
    "#function to generate random greetings\n",
    "def greeting(sentence):\n",
    "    for word in sentence.split():\n",
    "        if word.lower() in GREETING_INPUTS:\n",
    "            return random.choice(GREETING_RESPONSES)"
   ]
  },
  {
   "cell_type": "code",
   "execution_count": 9,
   "metadata": {
    "id": "7rd5pUInDqI7"
   },
   "outputs": [],
   "source": [
    "from sklearn.feature_extraction.text import TfidfVectorizer"
   ]
  },
  {
   "cell_type": "code",
   "execution_count": 10,
   "metadata": {
    "id": "p15bZ8tbDqI9"
   },
   "outputs": [],
   "source": [
    "from sklearn.metrics.pairwise import cosine_similarity\n",
    "# every sentence --> vector\n",
    "# similarity between vectors :: angle between vectors :: cosine :: \n",
    "# why cosine :: cosine(90) : 0 , cosine(0) = 1 :: cosine(180) = -1"
   ]
  },
  {
   "cell_type": "code",
   "execution_count": 15,
   "metadata": {
    "id": "MuHU0qvgDqI_"
   },
   "outputs": [],
   "source": [
    "#function to generate response for given question\n",
    "def response(user_response):\n",
    "    robo_response=''\n",
    "    sent_tokens.append(user_response)    \n",
    "    TfidfVec = TfidfVectorizer(tokenizer=LemNormalize, stop_words='english')\n",
    "    tfidf = TfidfVec.fit_transform(sent_tokens)\n",
    "    #print(\"Input FAQ sentences\",sent_tokens)\n",
    "    vals = cosine_similarity(tfidf[-1], tfidf)\n",
    "    #print(\"Cosine similarity\", vals)\n",
    "    #print(\"Cosine similarity after sorting\", vals.argsort())\n",
    "    idx=vals.argsort()[0][-2]\n",
    "    flat = vals.flatten()\n",
    "    flat.sort()\n",
    "    req_tfidf = flat[-2]    \n",
    "    if(req_tfidf==0):\n",
    "        robo_response=robo_response+\"I am sorry! I don't understand you\"\n",
    "        return robo_response\n",
    "    else:\n",
    "        robo_response = robo_response+sent_tokens[idx]+\"  \"+ans_sent_tokens[idx]\n",
    "        return robo_response"
   ]
  },
  {
   "cell_type": "code",
   "execution_count": 16,
   "metadata": {
    "colab": {
     "base_uri": "https://localhost:8080/"
    },
    "executionInfo": {
     "elapsed": 123435,
     "status": "ok",
     "timestamp": 1630574459147,
     "user": {
      "displayName": "shantanu pathak",
      "photoUrl": "https://lh3.googleusercontent.com/a-/AOh14Ghy-2EOK4l0U6WfTBQKzaSYykTqmkj2-3SuxRvtUg=s64",
      "userId": "10566305450164209704"
     },
     "user_tz": -330
    },
    "id": "JiNxycC3DqJB",
    "outputId": "fda045b9-aaed-4c91-e528-a15710debbde"
   },
   "outputs": [
    {
     "name": "stdout",
     "output_type": "stream",
     "text": [
      "ROBO: My name is Robo. I will answer your queries about Machine Learning and Data sceince training. If you want to exit, type Bye!\n",
      "hi\n",
      "ROBO: hi there\n",
      "data science course\n",
      "ROBO: how can i become a data scientist?  Learn about data analysis, data visualization and machine learning models, Practice it on projects, And Done!\n",
      "what is machine learning\n",
      "ROBO: what is machine learning?  Machine Learning is an art to make machines learn.\n",
      "fess for course\n",
      "ROBO: I am sorry! I don't understand you\n",
      "fees for course\n",
      "ROBO: what is the fees of this training ?  ANS What is the fees of this training ?\n",
      "data scientist role\n",
      "ROBO: what is role of a data scientist?  A DS does data cleaning, data analysis, data visualiation and predictions using machine learning.\n"
     ]
    },
    {
     "ename": "KeyboardInterrupt",
     "evalue": "Interrupted by user",
     "output_type": "error",
     "traceback": [
      "\u001b[1;31m---------------------------------------------------------------------------\u001b[0m",
      "\u001b[1;31mKeyboardInterrupt\u001b[0m                         Traceback (most recent call last)",
      "\u001b[1;32m~\\AppData\\Local\\Temp\\ipykernel_8884\\2163393316.py\u001b[0m in \u001b[0;36m<module>\u001b[1;34m\u001b[0m\n\u001b[0;32m      2\u001b[0m \u001b[0mprint\u001b[0m\u001b[1;33m(\u001b[0m\u001b[1;34m\"ROBO: My name is Robo. I will answer your queries about Machine Learning and Data sceince training. If you want to exit, type Bye!\"\u001b[0m\u001b[1;33m)\u001b[0m\u001b[1;33m\u001b[0m\u001b[1;33m\u001b[0m\u001b[0m\n\u001b[0;32m      3\u001b[0m \u001b[1;32mwhile\u001b[0m\u001b[1;33m(\u001b[0m\u001b[0mflag\u001b[0m\u001b[1;33m==\u001b[0m\u001b[1;32mTrue\u001b[0m\u001b[1;33m)\u001b[0m\u001b[1;33m:\u001b[0m\u001b[1;33m\u001b[0m\u001b[1;33m\u001b[0m\u001b[0m\n\u001b[1;32m----> 4\u001b[1;33m     \u001b[0muser_response\u001b[0m \u001b[1;33m=\u001b[0m \u001b[0minput\u001b[0m\u001b[1;33m(\u001b[0m\u001b[1;33m)\u001b[0m\u001b[1;33m\u001b[0m\u001b[1;33m\u001b[0m\u001b[0m\n\u001b[0m\u001b[0;32m      5\u001b[0m \u001b[1;33m\u001b[0m\u001b[0m\n\u001b[0;32m      6\u001b[0m     \u001b[1;31m#lower case user's input sentense\u001b[0m\u001b[1;33m\u001b[0m\u001b[1;33m\u001b[0m\u001b[0m\n",
      "\u001b[1;32m~\\anaconda3\\envs\\tf\\lib\\site-packages\\ipykernel\\kernelbase.py\u001b[0m in \u001b[0;36mraw_input\u001b[1;34m(self, prompt)\u001b[0m\n\u001b[0;32m   1073\u001b[0m                 \u001b[1;34m\"raw_input was called, but this frontend does not support input requests.\"\u001b[0m\u001b[1;33m\u001b[0m\u001b[1;33m\u001b[0m\u001b[0m\n\u001b[0;32m   1074\u001b[0m             )\n\u001b[1;32m-> 1075\u001b[1;33m         return self._input_request(\n\u001b[0m\u001b[0;32m   1076\u001b[0m             \u001b[0mstr\u001b[0m\u001b[1;33m(\u001b[0m\u001b[0mprompt\u001b[0m\u001b[1;33m)\u001b[0m\u001b[1;33m,\u001b[0m\u001b[1;33m\u001b[0m\u001b[1;33m\u001b[0m\u001b[0m\n\u001b[0;32m   1077\u001b[0m             \u001b[0mself\u001b[0m\u001b[1;33m.\u001b[0m\u001b[0m_parent_ident\u001b[0m\u001b[1;33m[\u001b[0m\u001b[1;34m\"shell\"\u001b[0m\u001b[1;33m]\u001b[0m\u001b[1;33m,\u001b[0m\u001b[1;33m\u001b[0m\u001b[1;33m\u001b[0m\u001b[0m\n",
      "\u001b[1;32m~\\anaconda3\\envs\\tf\\lib\\site-packages\\ipykernel\\kernelbase.py\u001b[0m in \u001b[0;36m_input_request\u001b[1;34m(self, prompt, ident, parent, password)\u001b[0m\n\u001b[0;32m   1118\u001b[0m             \u001b[1;32mexcept\u001b[0m \u001b[0mKeyboardInterrupt\u001b[0m\u001b[1;33m:\u001b[0m\u001b[1;33m\u001b[0m\u001b[1;33m\u001b[0m\u001b[0m\n\u001b[0;32m   1119\u001b[0m                 \u001b[1;31m# re-raise KeyboardInterrupt, to truncate traceback\u001b[0m\u001b[1;33m\u001b[0m\u001b[1;33m\u001b[0m\u001b[0m\n\u001b[1;32m-> 1120\u001b[1;33m                 \u001b[1;32mraise\u001b[0m \u001b[0mKeyboardInterrupt\u001b[0m\u001b[1;33m(\u001b[0m\u001b[1;34m\"Interrupted by user\"\u001b[0m\u001b[1;33m)\u001b[0m \u001b[1;32mfrom\u001b[0m \u001b[1;32mNone\u001b[0m\u001b[1;33m\u001b[0m\u001b[1;33m\u001b[0m\u001b[0m\n\u001b[0m\u001b[0;32m   1121\u001b[0m             \u001b[1;32mexcept\u001b[0m \u001b[0mException\u001b[0m\u001b[1;33m:\u001b[0m\u001b[1;33m\u001b[0m\u001b[1;33m\u001b[0m\u001b[0m\n\u001b[0;32m   1122\u001b[0m                 \u001b[0mself\u001b[0m\u001b[1;33m.\u001b[0m\u001b[0mlog\u001b[0m\u001b[1;33m.\u001b[0m\u001b[0mwarning\u001b[0m\u001b[1;33m(\u001b[0m\u001b[1;34m\"Invalid Message:\"\u001b[0m\u001b[1;33m,\u001b[0m \u001b[0mexc_info\u001b[0m\u001b[1;33m=\u001b[0m\u001b[1;32mTrue\u001b[0m\u001b[1;33m)\u001b[0m\u001b[1;33m\u001b[0m\u001b[1;33m\u001b[0m\u001b[0m\n",
      "\u001b[1;31mKeyboardInterrupt\u001b[0m: Interrupted by user"
     ]
    }
   ],
   "source": [
    "flag=True\n",
    "print(\"ROBO: My name is Robo. I will answer your queries about Machine Learning and Data sceince training. If you want to exit, type Bye!\")\n",
    "while(flag==True):\n",
    "    user_response = input()\n",
    "    \n",
    "    #lower case user's input sentense\n",
    "    user_response=user_response.lower()\n",
    "    if(user_response!='bye'):\n",
    "        \n",
    "        #if user says thanks or thank you\n",
    "        if(user_response=='thanks' or user_response=='thank you' ):\n",
    "            flag=False\n",
    "            print(\"ROBO: You are welcome..\")\n",
    "        else:\n",
    "            if(greeting(user_response)!=None):\n",
    "                print(\"ROBO: \"+greeting(user_response))\n",
    "            else:\n",
    "                print(\"ROBO: \",end=\"\")\n",
    "                print(response(user_response))\n",
    "                sent_tokens.remove(user_response)\n",
    "    \n",
    "    #if user says \"bye\"            \n",
    "    else:\n",
    "        flag=False\n",
    "        print(\"ROBO: Bye! take care..\")"
   ]
  },
  {
   "cell_type": "code",
   "execution_count": null,
   "metadata": {
    "id": "c-vUNTYCDqJE"
   },
   "outputs": [],
   "source": []
  }
 ],
 "metadata": {
  "colab": {
   "collapsed_sections": [],
   "name": "Copy of chatbot_for_faq.ipynb",
   "provenance": []
  },
  "kernelspec": {
   "display_name": "Python 3 (ipykernel)",
   "language": "python",
   "name": "python3"
  },
  "language_info": {
   "codemirror_mode": {
    "name": "ipython",
    "version": 3
   },
   "file_extension": ".py",
   "mimetype": "text/x-python",
   "name": "python",
   "nbconvert_exporter": "python",
   "pygments_lexer": "ipython3",
   "version": "3.10.4"
  }
 },
 "nbformat": 4,
 "nbformat_minor": 1
}
